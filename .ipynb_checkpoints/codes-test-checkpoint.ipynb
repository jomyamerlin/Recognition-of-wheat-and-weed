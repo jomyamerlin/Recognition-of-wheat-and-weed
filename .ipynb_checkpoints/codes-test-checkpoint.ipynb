{
 "cells": [
  {
   "cell_type": "code",
   "execution_count": 1,
   "metadata": {},
   "outputs": [],
   "source": [
    "import os\n",
    "import sys\n",
    "import math\n",
    "from math import log10, sqrt\n",
    "from time import time\n",
    "import pandas as pd\n",
    "import numpy as np\n",
    "import sklearn\n",
    "import matplotlib.pyplot as plt\n",
    "import seaborn as sns\n",
    "import cv2\n",
    "import cv2 as cv\n",
    "from PIL import Image as im\n",
    "import warnings\n",
    "from skimage.feature import greycomatrix,greycoprops\n",
    "from random import randint\n",
    "warnings.filterwarnings(\"ignore\", category=DeprecationWarning) \n",
    "%matplotlib inline"
   ]
  },
  {
   "cell_type": "code",
   "execution_count": 2,
   "metadata": {},
   "outputs": [],
   "source": [
    "from PIL import Image\n",
    "import os, sys\n",
    "def resize(path):\n",
    "    for file in os.listdir(path): \n",
    "        f_img = path+\"/\"+file\n",
    "        img = Image.open(f_img)\n",
    "        img = img.resize((250, 250)) \n",
    "        img.save(f_img)\n",
    "        "
   ]
  },
  {
   "cell_type": "code",
   "execution_count": null,
   "metadata": {},
   "outputs": [],
   "source": [
    "resize(r\"C:\\Users\\hp\\Documents\\8th sem\\PP1\\Project Folder\\Dataset\\Weed\")\n",
    "resize(r\"C:\\Users\\hp\\Documents\\8th sem\\PP1\\Project Folder\\Dataset\\Wheat\")"
   ]
  }
 ],
 "metadata": {
  "kernelspec": {
   "display_name": "Python 3",
   "language": "python",
   "name": "python3"
  },
  "language_info": {
   "codemirror_mode": {
    "name": "ipython",
    "version": 3
   },
   "file_extension": ".py",
   "mimetype": "text/x-python",
   "name": "python",
   "nbconvert_exporter": "python",
   "pygments_lexer": "ipython3",
   "version": "3.8.3"
  }
 },
 "nbformat": 4,
 "nbformat_minor": 4
}
